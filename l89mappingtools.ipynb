{
 "cells": [
  {
   "cell_type": "code",
   "execution_count": null,
   "metadata": {
    "id": "e4ktyuBrqzJI"
   },
   "outputs": [],
   "source": [
    "import ee\n",
    "\n",
    "# Trigger the authentication flow.\n",
    "ee.Authenticate()\n",
    "# Initialize the library.\n",
    "ee.Initialize(project='ee-huil7073')\n"
   ]
  },
  {
   "cell_type": "code",
   "execution_count": null,
   "metadata": {
    "colab": {
     "base_uri": "https://localhost:8080/"
    },
    "executionInfo": {
     "elapsed": 18460,
     "status": "ok",
     "timestamp": 1751040023230,
     "user": {
      "displayName": "Terry G",
      "userId": "09905793275888243705"
     },
     "user_tz": 240
    },
    "id": "UyxjVosTsF7y",
    "outputId": "2888b107-22ec-469d-d7e2-5d941ba88f8c"
   },
   "outputs": [],
   "source": [
    "!apt install -y gdal-bin python3-gdal"
   ]
  },
  {
   "cell_type": "code",
   "execution_count": null,
   "metadata": {
    "colab": {
     "base_uri": "https://localhost:8080/",
     "height": 34
    },
    "executionInfo": {
     "elapsed": 20836,
     "status": "ok",
     "timestamp": 1751040044068,
     "user": {
      "displayName": "Terry G",
      "userId": "09905793275888243705"
     },
     "user_tz": 240
    },
    "id": "0Rd5f5TTq4zz",
    "outputId": "31b775b5-6c2b-44fc-fb67-a8f143341f3e"
   },
   "outputs": [
    {
     "name": "stdout",
     "output_type": "stream",
     "text": [
      "Mounted at /content/drive\n"
     ]
    }
   ],
   "source": [
    "import geemap.core as geemap\n",
    "import os\n",
    "import glob\n",
    "import rasterio\n",
    "from rasterio.merge import merge\n",
    "from rasterio.plot import show\n",
    "from google.colab import drive\n",
    "from rasterio.enums import Compression\n",
    "import time\n",
    "\n",
    "Map = geemap.Map()\n",
    "# Mount Google Drive\n",
    "drive.mount('/content/drive')"
   ]
  },
  {
   "cell_type": "markdown",
   "metadata": {
    "id": "Nq0U2d8Ljgh2"
   },
   "source": [
    "Trusted Pixels"
   ]
  },
  {
   "cell_type": "code",
   "execution_count": null,
   "metadata": {
    "colab": {
     "base_uri": "https://localhost:8080/",
     "height": 17
    },
    "executionInfo": {
     "elapsed": 12,
     "status": "ok",
     "timestamp": 1751040044085,
     "user": {
      "displayName": "Terry G",
      "userId": "09905793275888243705"
     },
     "user_tz": 240
    },
    "id": "2jEp4ih-_oec",
    "outputId": "a09dceff-a67f-4281-888f-f53d99aa4ca8"
   },
   "outputs": [
    {
     "data": {
      "text/html": [
       "\n",
       "            <style>\n",
       "                .geemap-dark {\n",
       "                    --jp-widgets-color: white;\n",
       "                    --jp-widgets-label-color: white;\n",
       "                    --jp-ui-font-color1: white;\n",
       "                    --jp-layout-color2: #454545;\n",
       "                    background-color: #383838;\n",
       "                }\n",
       "\n",
       "                .geemap-dark .jupyter-button {\n",
       "                    --jp-layout-color3: #383838;\n",
       "                }\n",
       "\n",
       "                .geemap-colab {\n",
       "                    background-color: var(--colab-primary-surface-color, white);\n",
       "                }\n",
       "\n",
       "                .geemap-colab .jupyter-button {\n",
       "                    --jp-layout-color3: var(--colab-primary-surface-color, white);\n",
       "                }\n",
       "            </style>\n",
       "            "
      ],
      "text/plain": [
       "<IPython.core.display.HTML object>"
      ]
     },
     "metadata": {},
     "output_type": "display_data"
    }
   ],
   "source": [
    "# Trusted pixels extraction\n",
    "def trustedPixels(year,gap):\n",
    "\n",
    "  def getCDLbyYear(year):\n",
    "      return ee.Image('USDA/NASS/CDL/'+year).select('cropland')\n",
    "\n",
    "  gap = gap - 1\n",
    "  # year = 2025\n",
    "  oneYearList = list(range(year-gap,year))\n",
    "  # print(oneYearList)\n",
    "  twoYearList = oneYearList[0:gap:2]\n",
    "  # print(twoYearList)\n",
    "\n",
    "  oneYearListCdl = ee.ImageCollection(list(map(getCDLbyYear, list(map(str, oneYearList)))))\n",
    "  twoYearListCdl = ee.ImageCollection(list(map(getCDLbyYear, list(map(str, twoYearList)))))\n",
    "  # display(oneYearListCdl,twoYearListCdl)\n",
    "\n",
    "  # Calculate the standard deviation across the ImageCollection to find constant pixels.\n",
    "  # Create a mask where the standard deviation is zero (constant pixels).\n",
    "  oneYearconstant_mask = oneYearListCdl.reduce(ee.Reducer.stdDev()).eq(0)\n",
    "  twoYearconstant_mask = twoYearListCdl.reduce(ee.Reducer.stdDev()).eq(0)\n",
    "\n",
    "  oneYearTrusted = twoYearListCdl.first().updateMask(oneYearconstant_mask)\n",
    "  twoYearTrusted = twoYearListCdl.first().updateMask(twoYearconstant_mask)\n",
    "  # display(oneYearTrusted,twoYearTrusted)\n",
    "\n",
    "  # Merge the two trusted images\n",
    "  UStrustedpixel = ee.ImageCollection([oneYearTrusted, twoYearTrusted]).mosaic()\n",
    "\n",
    "  return UStrustedpixel"
   ]
  },
  {
   "cell_type": "markdown",
   "metadata": {
    "id": "X1K82nj8rhQt"
   },
   "source": [
    "Function - L89 single classification"
   ]
  },
  {
   "cell_type": "code",
   "execution_count": null,
   "metadata": {
    "colab": {
     "base_uri": "https://localhost:8080/",
     "height": 17
    },
    "executionInfo": {
     "elapsed": 3,
     "status": "ok",
     "timestamp": 1751040044090,
     "user": {
      "displayName": "Terry G",
      "userId": "09905793275888243705"
     },
     "user_tz": 240
    },
    "id": "inFiE43PrjdW",
    "outputId": "a4421e45-9cfc-470a-dbf4-a8f84dd49534"
   },
   "outputs": [
    {
     "data": {
      "text/html": [
       "\n",
       "            <style>\n",
       "                .geemap-dark {\n",
       "                    --jp-widgets-color: white;\n",
       "                    --jp-widgets-label-color: white;\n",
       "                    --jp-ui-font-color1: white;\n",
       "                    --jp-layout-color2: #454545;\n",
       "                    background-color: #383838;\n",
       "                }\n",
       "\n",
       "                .geemap-dark .jupyter-button {\n",
       "                    --jp-layout-color3: #383838;\n",
       "                }\n",
       "\n",
       "                .geemap-colab {\n",
       "                    background-color: var(--colab-primary-surface-color, white);\n",
       "                }\n",
       "\n",
       "                .geemap-colab .jupyter-button {\n",
       "                    --jp-layout-color3: var(--colab-primary-surface-color, white);\n",
       "                }\n",
       "            </style>\n",
       "            "
      ],
      "text/plain": [
       "<IPython.core.display.HTML object>"
      ]
     },
     "metadata": {},
     "output_type": "display_data"
    }
   ],
   "source": [
    "# single L89 tile classification\n",
    "def imgL89Classified(tile, startDate, endDate, cloudCover, CONUStrainingLabel):\n",
    "  # single tile path and row number\n",
    "  # L89_single = ee.List(tile)\n",
    "  path = tile[0] #L89_single.get(0)\n",
    "  row = tile[1] #L89_single.get(1)\n",
    "\n",
    "  # image selection\n",
    "  bands = ['SR_B2', 'SR_B3', 'SR_B4', 'SR_B5', 'SR_B6', 'SR_B7', 'NDVI', 'NDWI']\n",
    "  L8 = (ee.ImageCollection('LANDSAT/LC08/C02/T1_L2')\n",
    "                  .filterDate(startDate,endDate)\n",
    "                  .filter(ee.Filter.eq('WRS_PATH',path))\n",
    "                  .filter(ee.Filter.eq('WRS_ROW',row))\n",
    "                  .filter(ee.Filter.lt('CLOUD_COVER_LAND',cloudCover)))\n",
    "\n",
    "  L9 = (ee.ImageCollection('LANDSAT/LC09/C02/T1_L2')\n",
    "                  .filterDate(startDate,endDate)\n",
    "                  .filter(ee.Filter.eq('WRS_PATH',path))\n",
    "                  .filter(ee.Filter.eq('WRS_ROW',row))\n",
    "                  .filter(ee.Filter.lt('CLOUD_COVER_LAND',cloudCover)))\n",
    "\n",
    "  L89 = (ee.ImageCollection(L8.merge(L9)).sort('system:time_start')\n",
    "                                        .map(lambda image: image.addBands(image.normalizedDifference(['SR_B5','SR_B4']).rename('NDVI'))\n",
    "                                                                .addBands(image.normalizedDifference(['SR_B3','SR_B5']).rename('NDWI')))\n",
    "                                        .select(bands))\n",
    "\n",
    "  # convert ImageCollection to single Image\n",
    "  tileImage = L89.toBands()\n",
    "  # extract tile geometry\n",
    "  tileGeometry = tileImage.geometry()\n",
    "  # display(tileGeometry)\n",
    "  # bools = ee.Number(tileGeometry.area(1)).eq(0)\n",
    "  # display(bools)\n",
    "\n",
    "  output_description = str(path) + '_' + str(row) + '_' + endDate\n",
    "\n",
    "  # classification processing\n",
    "  def imgClassified():\n",
    "    # clip label image from trusted pixel raster\n",
    "    tileTrainingLabel = CONUStrainingLabel.clip(tileGeometry)\n",
    "    # training samples generation by stratified sampling method\n",
    "    trainingSample = tileImage.addBands(tileTrainingLabel).stratifiedSample(\n",
    "      numPoints = 2000,\n",
    "      classBand= 'cropland',\n",
    "      region= tileGeometry,\n",
    "      scale= 10\n",
    "    )\n",
    "\n",
    "    def couldClassified():\n",
    "      classified = (tileImage.classify(ee.Classifier.smileRandomForest(20).train(\n",
    "                                      features= trainingSample,\n",
    "                                      classProperty= 'cropland',\n",
    "                                      inputProperties= tileImage.bandNames()\n",
    "                                    )\n",
    "                            )\n",
    "                      .clip(tileGeometry)\n",
    "                      .set('type','classification')\n",
    "                      .toUint8()\n",
    "              )\n",
    "      majority_filtered = classified.focal_mode(\n",
    "          radius=1, # radius in pixels (1 = 3x3 window)\n",
    "          units='pixels',\n",
    "          kernelType='square',\n",
    "          iterations=1\n",
    "      )\n",
    "      output_dictionary = ee.Dictionary({'image':majority_filtered, 'description':output_description, 'region':tileGeometry})\n",
    "      return output_dictionary\n",
    "\n",
    "    def couldNotClassified():\n",
    "      # nullImg = ee.Image(0).clip(tileGeometry).set('type','null')\n",
    "      output_dictionary = ee.Dictionary({'image':'null', 'description':'null', 'region':'null'})\n",
    "      return output_dictionary\n",
    "\n",
    "\n",
    "    return ee.Algorithms.If(trainingSample.size().neq(0).And(trainingSample.aggregate_count_distinct(\"cropland\").neq(1)),couldClassified(),couldNotClassified())\n",
    "\n",
    "  # alternative null image process\n",
    "  def imgNull():\n",
    "    # nullImg = ee.Image(0).set('type','null') #.clip(tileGeometry)\n",
    "    output_dictionary = ee.Dictionary({'image':'null', 'description':'null', 'region':'null'})\n",
    "    return output_dictionary\n",
    "\n",
    "  # output classified crop map\n",
    "\n",
    "  return ee.Algorithms.If(ee.Number(tileGeometry.area(1)).neq(0),imgClassified(),imgNull())\n"
   ]
  },
  {
   "cell_type": "markdown",
   "metadata": {
    "id": "UZ2DpVlKrvHo"
   },
   "source": [
    "Function - L89 tile list"
   ]
  },
  {
   "cell_type": "code",
   "execution_count": null,
   "metadata": {
    "colab": {
     "base_uri": "https://localhost:8080/",
     "height": 17
    },
    "executionInfo": {
     "elapsed": 15,
     "status": "ok",
     "timestamp": 1751040044106,
     "user": {
      "displayName": "Terry G",
      "userId": "09905793275888243705"
     },
     "user_tz": 240
    },
    "id": "_EUc4CxrruQh",
    "outputId": "576d456c-8b6d-4908-911c-d5c8c4e79894"
   },
   "outputs": [
    {
     "data": {
      "text/html": [
       "\n",
       "            <style>\n",
       "                .geemap-dark {\n",
       "                    --jp-widgets-color: white;\n",
       "                    --jp-widgets-label-color: white;\n",
       "                    --jp-ui-font-color1: white;\n",
       "                    --jp-layout-color2: #454545;\n",
       "                    background-color: #383838;\n",
       "                }\n",
       "\n",
       "                .geemap-dark .jupyter-button {\n",
       "                    --jp-layout-color3: #383838;\n",
       "                }\n",
       "\n",
       "                .geemap-colab {\n",
       "                    background-color: var(--colab-primary-surface-color, white);\n",
       "                }\n",
       "\n",
       "                .geemap-colab .jupyter-button {\n",
       "                    --jp-layout-color3: var(--colab-primary-surface-color, white);\n",
       "                }\n",
       "            </style>\n",
       "            "
      ],
      "text/plain": [
       "<IPython.core.display.HTML object>"
      ]
     },
     "metadata": {},
     "output_type": "display_data"
    }
   ],
   "source": [
    "def L89List(CONUSBoundary):\n",
    "  # Filter the L89 harmonized collection by date and bounds.\n",
    "  L8 = (ee.ImageCollection('LANDSAT/LC08/C02/T1_L2')\n",
    "                    .filterDate(\"2025-05-01\",\"2025-05-20\")\n",
    "                    .filterBounds(CONUSBoundary))\n",
    "  L9 = (ee.ImageCollection('LANDSAT/LC09/C02/T1_L2')\n",
    "                  .filterDate(\"2025-05-01\",\"2025-05-20\")\n",
    "                  .filterBounds(CONUSBoundary))\n",
    "\n",
    "  L89 = ee.ImageCollection(L8.merge(L9))\n",
    "\n",
    "  pathString = ee.Array(L89.aggregate_array('WRS_PATH'))\n",
    "  rowString = ee.Array(L89.aggregate_array('WRS_ROW'))\n",
    "  L89_pathrowlist = ee.Array.cat([pathString, rowString], 1).toList().distinct().getInfo()\n",
    "  return L89_pathrowlist"
   ]
  },
  {
   "cell_type": "markdown",
   "metadata": {
    "id": "Lm5YQmqcsb_U"
   },
   "source": [
    "Function - L89 mosaic"
   ]
  },
  {
   "cell_type": "code",
   "execution_count": null,
   "metadata": {
    "colab": {
     "base_uri": "https://localhost:8080/",
     "height": 17
    },
    "executionInfo": {
     "elapsed": 953,
     "status": "ok",
     "timestamp": 1751040045060,
     "user": {
      "displayName": "Terry G",
      "userId": "09905793275888243705"
     },
     "user_tz": 240
    },
    "id": "k2l85i59saus",
    "outputId": "ac1a127e-24f0-403e-a4ad-86a20a778bb4"
   },
   "outputs": [
    {
     "data": {
      "text/html": [
       "\n",
       "            <style>\n",
       "                .geemap-dark {\n",
       "                    --jp-widgets-color: white;\n",
       "                    --jp-widgets-label-color: white;\n",
       "                    --jp-ui-font-color1: white;\n",
       "                    --jp-layout-color2: #454545;\n",
       "                    background-color: #383838;\n",
       "                }\n",
       "\n",
       "                .geemap-dark .jupyter-button {\n",
       "                    --jp-layout-color3: #383838;\n",
       "                }\n",
       "\n",
       "                .geemap-colab {\n",
       "                    background-color: var(--colab-primary-surface-color, white);\n",
       "                }\n",
       "\n",
       "                .geemap-colab .jupyter-button {\n",
       "                    --jp-layout-color3: var(--colab-primary-surface-color, white);\n",
       "                }\n",
       "            </style>\n",
       "            "
      ],
      "text/plain": [
       "<IPython.core.display.HTML object>"
      ]
     },
     "metadata": {},
     "output_type": "display_data"
    }
   ],
   "source": [
    "import os\n",
    "import glob\n",
    "from osgeo import gdal\n",
    "\n",
    "def mosaicL89outputVRT(inputfolder,outputfolder,month):\n",
    "    # Build full folder path\n",
    "    inputfolder_path = os.path.join('/content/drive/MyDrive', inputfolder)\n",
    "    print(f\"Input folder path: {inputfolder_path}\")\n",
    "    # Find all .tif files in the folder\n",
    "    tif_files = glob.glob(os.path.join(inputfolder_path, '*.tif'))\n",
    "    print(f\"Found {len(tif_files)} files for mosaicking.\")\n",
    "\n",
    "    if not tif_files:\n",
    "        print(\"No .tif files found.\")\n",
    "        return\n",
    "\n",
    "    # Create temporary VRT (Virtual Raster Tile)\n",
    "    vrt_path = os.path.join(inputfolder_path, \"temp_mosaic.vrt\")\n",
    "    vrt_options = gdal.BuildVRTOptions(srcNodata=0, VRTNodata=0)\n",
    "    vrt = gdal.BuildVRT(vrt_path, tif_files, options=vrt_options)\n",
    "    if vrt is None:\n",
    "        print(\"VRT build failed.\")\n",
    "        return\n",
    "    vrt = None  # Close the VRT handle\n",
    "\n",
    "    # Define output mosaic path\n",
    "    outputfolder_path = os.path.join('/content/drive/MyDrive', outputfolder)\n",
    "    os.makedirs(outputfolder_path, exist_ok=True)\n",
    "    out_fp = os.path.join(outputfolder_path, month+\"_L89mosaic_output.tif\")\n",
    "\n",
    "    # Translate VRT to compressed GeoTIFF using tiling and LZW compression\n",
    "    translate_options = gdal.TranslateOptions(\n",
    "        format='GTiff',\n",
    "        creationOptions=[\n",
    "            'TILED=YES',\n",
    "            'COMPRESS=LZW',\n",
    "            'BIGTIFF=YES',  # Use for large outputs\n",
    "            'NUM_THREADS=ALL_CPUS'\n",
    "        ]\n",
    "    )\n",
    "    gdal.Translate(out_fp, vrt_path, options=translate_options)\n",
    "    print(f\"Mosaic written to: {out_fp}\")\n",
    "\n",
    "    # Optional: remove temporary VRT\n",
    "    os.remove(vrt_path)\n"
   ]
  },
  {
   "cell_type": "markdown",
   "metadata": {
    "id": "FVriSz3WsEZN"
   },
   "source": [
    "Function - L89 mosaic mapping"
   ]
  },
  {
   "cell_type": "code",
   "execution_count": null,
   "metadata": {
    "colab": {
     "base_uri": "https://localhost:8080/",
     "height": 17
    },
    "executionInfo": {
     "elapsed": 3,
     "status": "ok",
     "timestamp": 1751040045065,
     "user": {
      "displayName": "Terry G",
      "userId": "09905793275888243705"
     },
     "user_tz": 240
    },
    "id": "xZbkM1KasDLK",
    "outputId": "6344dbb2-629f-4453-e4e3-f3094ecc56bf"
   },
   "outputs": [
    {
     "data": {
      "text/html": [
       "\n",
       "            <style>\n",
       "                .geemap-dark {\n",
       "                    --jp-widgets-color: white;\n",
       "                    --jp-widgets-label-color: white;\n",
       "                    --jp-ui-font-color1: white;\n",
       "                    --jp-layout-color2: #454545;\n",
       "                    background-color: #383838;\n",
       "                }\n",
       "\n",
       "                .geemap-dark .jupyter-button {\n",
       "                    --jp-layout-color3: #383838;\n",
       "                }\n",
       "\n",
       "                .geemap-colab {\n",
       "                    background-color: var(--colab-primary-surface-color, white);\n",
       "                }\n",
       "\n",
       "                .geemap-colab .jupyter-button {\n",
       "                    --jp-layout-color3: var(--colab-primary-surface-color, white);\n",
       "                }\n",
       "            </style>\n",
       "            "
      ],
      "text/plain": [
       "<IPython.core.display.HTML object>"
      ]
     },
     "metadata": {},
     "output_type": "display_data"
    }
   ],
   "source": [
    "def L89MosaicClassification(startDate, endDate, month, cloudCover, CONUSBoundary, CONUStrainingLabel, tileFolder, mosaicFolder):\n",
    "  # Filter the L89 harmonized collection by date and bounds.\n",
    "  pathrowlist = L89List(CONUSBoundary)\n",
    "  numList = len(pathrowlist)\n",
    "  print('Number of L89 tiles:',numList)\n",
    "\n",
    "  taskList = []\n",
    "\n",
    "  # classification for each single tile\n",
    "  # for i in range(numList):\n",
    "  for i in range(0,1):\n",
    "    tile = pathrowlist[i]\n",
    "    print(i, tile)\n",
    "    classified_dictionary = ee.Dictionary(imgL89Classified(tile, startDate, endDate, cloudCover, CONUStrainingLabel))\n",
    "    # display(classified_dictionary)\n",
    "    imgID =classified_dictionary.get('description').getInfo()\n",
    "    print('imgID',imgID)\n",
    "    if imgID != 'null':\n",
    "      classified =ee.Image(classified_dictionary.get('image'))\n",
    "      refion = ee.Geometry(classified_dictionary.get('region'))\n",
    "      description = month + '_' + classified_dictionary.get('description').getInfo()\n",
    "\n",
    "      task = ee.batch.Export.image.toDrive(\n",
    "          image = classified,\n",
    "          description = description,\n",
    "          folder = tileFolder,\n",
    "          region = refion, # Ensure region is a list of coordinates\n",
    "          scale = 10, # Resolution of your output image\n",
    "          crs = 'EPSG:5070', # Coordinate Reference System\n",
    "          maxPixels = 1e12 # Increase if you encounter \"Too many pixels\" error\n",
    "      )\n",
    "      task.start()\n",
    "      taskList.append(task)\n",
    "      print(f\"Export task '{classified_dictionary.get('description').getInfo()}' started. Check Google Drive {tileFolder} folder.\")\n",
    "\n",
    "  # Function to monitor task completion\n",
    "  def wait_for_tasks(tasks):\n",
    "      print(\"Waiting for all export tasks to complete...\")\n",
    "      while True:\n",
    "          statuses = [task.status()['state'] for task in tasks]\n",
    "          print(statuses)  # Optional: track task progress\n",
    "          if all(state in ['COMPLETED', 'FAILED', 'CANCELLED'] for state in statuses):\n",
    "              break\n",
    "          time.sleep(30)  # Wait 30 seconds before checking again\n",
    "\n",
    "  # Call the monitoring function\n",
    "  wait_for_tasks(taskList)\n",
    "\n",
    "  # mosaic all classified images when finishing upload\n",
    "  time.sleep(30) # Wait for 30 seconds before checking again\n",
    "  print(\"Ready to mosaic\")\n",
    "  mosaicL89outputVRT(tileFolder, mosaicFolder, month)"
   ]
  },
  {
   "cell_type": "markdown",
   "metadata": {
    "id": "29bNv_n8tdvW"
   },
   "source": [
    "Application - L89 mapping"
   ]
  },
  {
   "cell_type": "code",
   "execution_count": null,
   "metadata": {
    "colab": {
     "base_uri": "https://localhost:8080/",
     "height": 17
    },
    "executionInfo": {
     "elapsed": 4,
     "status": "ok",
     "timestamp": 1751040045071,
     "user": {
      "displayName": "Terry G",
      "userId": "09905793275888243705"
     },
     "user_tz": 240
    },
    "id": "ZtHDJJxj4k-w",
    "outputId": "38ba18b9-6e39-4d6f-d53a-d0271f951717"
   },
   "outputs": [
    {
     "data": {
      "text/html": [
       "\n",
       "            <style>\n",
       "                .geemap-dark {\n",
       "                    --jp-widgets-color: white;\n",
       "                    --jp-widgets-label-color: white;\n",
       "                    --jp-ui-font-color1: white;\n",
       "                    --jp-layout-color2: #454545;\n",
       "                    background-color: #383838;\n",
       "                }\n",
       "\n",
       "                .geemap-dark .jupyter-button {\n",
       "                    --jp-layout-color3: #383838;\n",
       "                }\n",
       "\n",
       "                .geemap-colab {\n",
       "                    background-color: var(--colab-primary-surface-color, white);\n",
       "                }\n",
       "\n",
       "                .geemap-colab .jupyter-button {\n",
       "                    --jp-layout-color3: var(--colab-primary-surface-color, white);\n",
       "                }\n",
       "            </style>\n",
       "            "
      ],
      "text/plain": [
       "<IPython.core.display.HTML object>"
      ]
     },
     "metadata": {},
     "output_type": "display_data"
    }
   ],
   "source": [
    "# Define a geometry to cover Conterminous U.S.\n",
    "# CONUSBoundary = (ee.FeatureCollection(\"TIGER/2018/States\")\n",
    "#                     .filter(ee.Filter.neq('NAME', 'United States Virgin Islands'))\n",
    "#                     .filter(ee.Filter.neq('NAME', 'Puerto Rico'))\n",
    "#                     .filter(ee.Filter.neq('NAME', 'Alaska'))\n",
    "#                     .filter(ee.Filter.neq('NAME', 'Hawaii'))\n",
    "#                     .filter(ee.Filter.neq('NAME', 'Guam'))\n",
    "#                     .filter(ee.Filter.neq('NAME', 'Virgin Islands'))\n",
    "#                     .filter(ee.Filter.neq('NAME', 'American Samoa'))\n",
    "#                     .filter(ee.Filter.neq('NAME', 'Northern Mariana Islands'))\n",
    "#                     .filter(ee.Filter.neq('NAME', 'Commonwealth of the Northern Mariana Islands'))).union().geometry()\n"
   ]
  },
  {
   "cell_type": "code",
   "execution_count": null,
   "metadata": {
    "colab": {
     "base_uri": "https://localhost:8080/",
     "height": 139
    },
    "executionInfo": {
     "elapsed": 4648,
     "status": "ok",
     "timestamp": 1751040049720,
     "user": {
      "displayName": "Terry G",
      "userId": "09905793275888243705"
     },
     "user_tz": 240
    },
    "id": "bnrWd_dRtc8E",
    "outputId": "6d0ae22c-4185-4cb3-e74f-bcdae42c4187"
   },
   "outputs": [
    {
     "data": {
      "text/html": [
       "\n",
       "            <style>\n",
       "                .geemap-dark {\n",
       "                    --jp-widgets-color: white;\n",
       "                    --jp-widgets-label-color: white;\n",
       "                    --jp-ui-font-color1: white;\n",
       "                    --jp-layout-color2: #454545;\n",
       "                    background-color: #383838;\n",
       "                }\n",
       "\n",
       "                .geemap-dark .jupyter-button {\n",
       "                    --jp-layout-color3: #383838;\n",
       "                }\n",
       "\n",
       "                .geemap-colab {\n",
       "                    background-color: var(--colab-primary-surface-color, white);\n",
       "                }\n",
       "\n",
       "                .geemap-colab .jupyter-button {\n",
       "                    --jp-layout-color3: var(--colab-primary-surface-color, white);\n",
       "                }\n",
       "            </style>\n",
       "            "
      ],
      "text/plain": [
       "<IPython.core.display.HTML object>"
      ]
     },
     "metadata": {},
     "output_type": "display_data"
    },
    {
     "name": "stdout",
     "output_type": "stream",
     "text": [
      "Number of L89 tiles: 22\n",
      "Ready to mosaic\n",
      "Input folder path: /content/drive/MyDrive/AutoInseasonL89_MappingTest\n",
      "Found 1 files for mosaicking.\n"
     ]
    },
    {
     "name": "stderr",
     "output_type": "stream",
     "text": [
      "/usr/local/lib/python3.11/dist-packages/osgeo/gdal.py:312: FutureWarning: Neither gdal.UseExceptions() nor gdal.DontUseExceptions() has been explicitly called. In GDAL 4.0, exceptions will be enabled by default.\n",
      "  warnings.warn(\n"
     ]
    },
    {
     "name": "stdout",
     "output_type": "stream",
     "text": [
      "Mosaic written to: /content/drive/MyDrive/AutoInseasonL89S2_Mosaic/June_L89mosaic_output.tif\n"
     ]
    }
   ],
   "source": [
    "CONUSBoundary = (ee.FeatureCollection(\"TIGER/2018/States\")\n",
    "                    .filter(ee.Filter.eq('NAME', 'Nebraska'))).geometry()\n",
    "\n",
    "CONUStrainingLabel = trustedPixels(2025,7)\n",
    "\n",
    "startDate = \"2025-05-01\"\n",
    "endDate = \"2025-07-01\"\n",
    "month = \"June\"\n",
    "nodata = 10\n",
    "cloudCover = 20\n",
    "\n",
    "L89MosaicClassification(startDate, endDate, month, cloudCover, CONUSBoundary, CONUStrainingLabel)"
   ]
  }
 ],
 "metadata": {
  "colab": {
   "authorship_tag": "ABX9TyOX7SSwT+LV/81li73YkKGn",
   "machine_shape": "hm",
   "provenance": []
  },
  "kernelspec": {
   "display_name": "Python 3",
   "name": "python3"
  },
  "language_info": {
   "name": "python"
  }
 },
 "nbformat": 4,
 "nbformat_minor": 0
}

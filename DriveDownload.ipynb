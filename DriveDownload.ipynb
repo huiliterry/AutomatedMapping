{
 "cells": [
  {
   "cell_type": "code",
   "execution_count": 1,
   "metadata": {},
   "outputs": [],
   "source": [
    "import ee\n",
    "import os\n",
    "import io\n",
    "from google.oauth2 import service_account\n",
    "from googleapiclient.discovery import build\n",
    "from googleapiclient.http import MediaIoBaseDownload"
   ]
  },
  {
   "cell_type": "markdown",
   "metadata": {},
   "source": [
    "Access all files in a specific folder"
   ]
  },
  {
   "cell_type": "code",
   "execution_count": 2,
   "metadata": {},
   "outputs": [],
   "source": [
    "def list_all_files_in_folder(service, folder_id):\n",
    "    query = f\"'{folder_id}' in parents and trashed=false\"\n",
    "    files = []\n",
    "    page_token = None\n",
    "\n",
    "    while True:\n",
    "        response = service.files().list(\n",
    "            q=query,\n",
    "            spaces='drive',\n",
    "            fields=\"nextPageToken, files(id, name)\",\n",
    "            pageSize=1000,\n",
    "            pageToken=page_token\n",
    "        ).execute()\n",
    "\n",
    "        files.extend(response.get('files', []))\n",
    "        page_token = response.get('nextPageToken', None)\n",
    "\n",
    "        if page_token is None:\n",
    "            break\n",
    "\n",
    "    return files"
   ]
  },
  {
   "cell_type": "markdown",
   "metadata": {},
   "source": [
    "Access Drive files and download to local folders"
   ]
  },
  {
   "cell_type": "code",
   "execution_count": 3,
   "metadata": {},
   "outputs": [],
   "source": [
    "# create service account key in Google Cloud, download key .json, share downloadable folders to created service account\n",
    "def downloadfiles_byserviceaccout(local_folder):\n",
    "    # Load your service account key\n",
    "    SERVICE_ACCOUNT_FILE = 'ee-huil7073-81b7212a3bd2.json'\n",
    "    SCOPES = ['https://www.googleapis.com/auth/drive']\n",
    "\n",
    "    creds = service_account.Credentials.from_service_account_file(\n",
    "        SERVICE_ACCOUNT_FILE, scopes=SCOPES)\n",
    "\n",
    "    drive_service = build('drive', 'v3', credentials=creds)\n",
    "\n",
    "    # List shared files\n",
    "    results = drive_service.files().list(q=\"'me' in owners or sharedWithMe\", pageSize=10, fields=\"files(id, name)\").execute()\n",
    "    print('results',results.get('files'))\n",
    "\n",
    "    # search and download each file in every folder\n",
    "    for f in results['files']:\n",
    "        folder_name = f['name']\n",
    "        folder_id = f['id']\n",
    "        print(\"folder_id\",folder_id)\n",
    "        \n",
    "        # create local folder \n",
    "        local_file_path = os.path.join(local_folder, folder_name)\n",
    "        os.makedirs(local_file_path, exist_ok=True)\n",
    "        print('local_file_path',local_file_path)\n",
    "\n",
    "        # Search for all files in this Drive folder\n",
    "        query = f\"'{folder_id}' in parents and trashed = false\"\n",
    "        filesList = list_all_files_in_folder(drive_service, folder_id)\n",
    "        print('filesList',len(filesList))\n",
    "\n",
    "        for i, file_obj in enumerate(filesList):\n",
    "                file_title = file_obj['name']\n",
    "                file_id = file_obj['id']\n",
    "                print(f\"{i+1}. {file_title} ({file_id})\")\n",
    "                local_file_name = os.path.join(local_file_path, file_title)\n",
    "\n",
    "                request = drive_service.files().get_media(fileId=file_id)\n",
    "                fh = io.FileIO(local_file_name, 'wb')\n",
    "                downloader = MediaIoBaseDownload(fh, request)\n",
    "                done = False\n",
    "                while done is False:\n",
    "                    status, done = downloader.next_chunk()\n",
    "                    print(f\"Download {int(status.progress() * 100)}%.\")\n",
    "\n",
    "        print(f\"All files downloaded to: {local_file_path}\")"
   ]
  },
  {
   "cell_type": "code",
   "execution_count": null,
   "metadata": {},
   "outputs": [
    {
     "name": "stderr",
     "output_type": "stream",
     "text": [
      "<>:6: SyntaxWarning: invalid escape sequence '\\D'\n",
      "<>:6: SyntaxWarning: invalid escape sequence '\\D'\n",
      "C:\\Users\\huil7\\AppData\\Local\\Temp\\ipykernel_14744\\3517401266.py:6: SyntaxWarning: invalid escape sequence '\\D'\n",
      "  local_save_folder = '..\\DownloadClassifications'\n",
      "C:\\Users\\huil7\\AppData\\Local\\Temp\\ipykernel_14744\\3517401266.py:6: SyntaxWarning: invalid escape sequence '\\D'\n",
      "  local_save_folder = '..\\DownloadClassifications'\n"
     ]
    },
    {
     "ename": "NameError",
     "evalue": "name 'downloadfiles_byserviceaccout' is not defined",
     "output_type": "error",
     "traceback": [
      "\u001b[31m---------------------------------------------------------------------------\u001b[39m",
      "\u001b[31mNameError\u001b[39m                                 Traceback (most recent call last)",
      "\u001b[36mCell\u001b[39m\u001b[36m \u001b[39m\u001b[32mIn[1]\u001b[39m\u001b[32m, line 7\u001b[39m\n\u001b[32m      1\u001b[39m \u001b[38;5;66;03m# Trigger the authentication flow.\u001b[39;00m\n\u001b[32m      2\u001b[39m \u001b[38;5;66;03m# ee.Authenticate()\u001b[39;00m\n\u001b[32m      3\u001b[39m \u001b[38;5;66;03m# # Initialize the library.\u001b[39;00m\n\u001b[32m      4\u001b[39m \u001b[38;5;66;03m# ee.Initialize(project='ee-huil7073')\u001b[39;00m\n\u001b[32m      6\u001b[39m local_save_folder = \u001b[33m'\u001b[39m\u001b[33m..\u001b[39m\u001b[33m\\\u001b[39m\u001b[33mDownloadClassifications\u001b[39m\u001b[33m'\u001b[39m\n\u001b[32m----> \u001b[39m\u001b[32m7\u001b[39m \u001b[43mdownloadfiles_byserviceaccout\u001b[49m(local_save_folder)\n",
      "\u001b[31mNameError\u001b[39m: name 'downloadfiles_byserviceaccout' is not defined"
     ]
    }
   ],
   "source": [
    "# Trigger the authentication flow.\n",
    "# ee.Authenticate()\n",
    "# # Initialize the library.\n",
    "# ee.Initialize(project='ee-huil7073')\n",
    "\n",
    "local_save_folder = '../DownloadClassifications'\n",
    "downloadfiles_byserviceaccout(local_save_folder)"
   ]
  }
 ],
 "metadata": {
  "kernelspec": {
   "display_name": ".venv",
   "language": "python",
   "name": "python3"
  },
  "language_info": {
   "codemirror_mode": {
    "name": "ipython",
    "version": 3
   },
   "file_extension": ".py",
   "mimetype": "text/x-python",
   "name": "python",
   "nbconvert_exporter": "python",
   "pygments_lexer": "ipython3",
   "version": "3.12.4"
  }
 },
 "nbformat": 4,
 "nbformat_minor": 2
}
